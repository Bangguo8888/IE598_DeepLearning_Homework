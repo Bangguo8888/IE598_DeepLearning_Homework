{
 "cells": [
  {
   "cell_type": "code",
   "execution_count": 2,
   "metadata": {
    "collapsed": false
   },
   "outputs": [
    {
     "data": {
      "image/png": "[encoded data removed]",
      "text/plain": [
       "<matplotlib.figure.Figure at 0x109c34c18>"
      ]
     },
     "metadata": {},
     "output_type": "display_data"
    },
    {
     "data": {
      "image/png": "[encoded data removed]",
      "text/plain": [
       "<matplotlib.figure.Figure at 0x117da8630>"
      ]
     },
     "metadata": {},
     "output_type": "display_data"
    }
   ],
   "source": [
    "import numpy as np\n",
    "\n",
    "import time\n",
    "\n",
    "# load MNIST data\n",
    "import h5py\n",
    "\n",
    "MNIST_data = h5py.File('MNISTdata.hdf5', 'r')\n",
    "x_train = np.float32(MNIST_data['x_train'][:])\n",
    "y_train = np.int32(np.array(MNIST_data['y_train'][:, 0]))\n",
    "x_test = np.float32(MNIST_data['x_test'][:])\n",
    "y_test = np.int32(np.array(MNIST_data['y_test'][:, 0]))\n",
    "\n",
    "MNIST_data.close()\n",
    "\n",
    "\n",
    "###########################################################################\n",
    "#####plot the images..\n",
    "\n",
    "def PlotImage(vector_in, time_to_wait):\n",
    "    array0 = 255.0 * np.reshape(vector_in, (28, 28))\n",
    "    from matplotlib import pyplot as plt\n",
    "    plt.ion()\n",
    "    plt.show(block=False)\n",
    "    plt.figure(figsize=(2, 2))\n",
    "    plt.imshow(array0, cmap='Greys_r')\n",
    "    plt.draw()\n",
    "    plt.show()\n",
    "    time.sleep(time_to_wait)\n",
    "    plt.close('all')\n",
    "\n",
    "\n",
    "# time (in seconds) between each image showing up on the screen\n",
    "time_to_wait = 1\n",
    "# number of images from the dataset that will be plotted\n",
    "N = 100\n",
    "# plot the images\n",
    "for i in range(0, 2):\n",
    "    PlotImage(x_train[i], time_to_wait)"
   ]
  },
  {
   "cell_type": "code",
   "execution_count": 43,
   "metadata": {
    "collapsed": true
   },
   "outputs": [],
   "source": [
    "def activation_forward(x,func_name):\n",
    "    if func_name.lower() =='relu':\n",
    "        y = x * (x > 0)\n",
    "    elif func_name.lower() == 'tanh':\n",
    "        y = 1.0 - 2.0/(1 + np.exp(2 * x))\n",
    "    elif func_name.lower() == 'sigmoid':\n",
    "        y = 1.0/(1.0 + np.exp(-x))\n",
    "    elif func_name.lower() == 'softmax':\n",
    "        y = np.exp(x)/np.sum(np.exp(x),axis = 0,keepdims = 1)\n",
    "    else:\n",
    "        raise NameError(\"The function's name must be one of them:'ReLU','Tanh','Sigmoid','Softmax'\")\n",
    "    return y\n",
    "def activation_backward(A1,func_name):\n",
    "    if func_name.lower() =='relu':\n",
    "        y = np.ones(A1.shape) * (A1 > 0)\n",
    "    elif func_name.lower() == 'tanh':\n",
    "        y = 1 - A1**2\n",
    "    elif func_name.lower() == 'sigmoid':\n",
    "        y = A1 * (1 - A1)\n",
    "    else:\n",
    "        raise NameError(\"The function's name must be one of them:'ReLU','Tanh','Sigmoid'\")\n",
    "    return y"
   ]
  },
  {
   "cell_type": "code",
   "execution_count": 44,
   "metadata": {
    "collapsed": false
   },
   "outputs": [],
   "source": [
    "def initialize_parameters(layers):\n",
    "    L = len(layers)\n",
    "    parameters = {}\n",
    "    for i in range(1,L):\n",
    "        parameters['W'+str(i)] = np.random.randn(layers[i],layers[i-1]) * np.sqrt(1./layers[i])    \n",
    "        parameters['b'+str(i)] = np.zeros((layers[i],1)) \n",
    "    return parameters"
   ]
  },
  {
   "cell_type": "code",
   "execution_count": 92,
   "metadata": {
    "collapsed": true
   },
   "outputs": [],
   "source": [
    "def forward_propagation(X,Y,parameters,keep_probs,activation_name):\n",
    "    L = int(len(parameters)/2)\n",
    "    cache = {}\n",
    "    cache['A0'] = X\n",
    "    \n",
    "    for i in range(1,L):\n",
    "        cache['Z' + str(i)] = np.dot(parameters['W' + str(i)], cache['A' + str(i-1)]) + parameters['b' + str(i)]\n",
    "        cache['D' + str(i)] = np.random.rand(cache['Z' + str(i)].shape[0],cache['Z' + str(i)].shape[1]) < keep_probs['L' + str(i)]\n",
    "        cache['A' + str(i)] = activation_forward(cache['Z' + str(i)],activation_name) * cache['D' + str(i)] / keep_probs['L' + str(i)]\n",
    "\n",
    "    cache['Z' + str(L)] = np.dot(parameters['W' + str(L)], cache['A' + str(L-1)]) + parameters['b' + str(L)]\n",
    "    cache['A' + str(L)] = activation_forward(cache['Z' + str(L)],'softmax')\n",
    "    \n",
    "    cost = loss_func(cache['A' + str(L)],Y)\n",
    "    return cache,cost"
   ]
  },
  {
   "cell_type": "code",
   "execution_count": 93,
   "metadata": {
    "collapsed": false
   },
   "outputs": [],
   "source": [
    "def backward_propagation(X,Y,cache,parameters,keep_probs,activation_name):\n",
    "    m = Y.shape[1]\n",
    "    L = int(len(parameters)/2)\n",
    "    \n",
    "    gradients = {}\n",
    "    dZ_temp = cache['A' + str(L)] - Y\n",
    "    gradients['dW' + str(L)] = 1./m * np.dot(dZ_temp,cache['A' + str(L - 1)].T)\n",
    "    gradients['db' + str(L)] = 1./m * np.sum(dZ_temp,axis = 1, keepdims = True)\n",
    "    \n",
    "    for i in range(L-1,0,-1):\n",
    "        dA_temp = np.dot(parameters['W' + str(i + 1)].T, dZ_temp) * cache['D' + str(i)] / keep_probs['L' + str(i)]\n",
    "        dZ_temp = dA_temp * activation_backward(cache['A' + str(i)],activation_name)\n",
    "        gradients['dW' + str(i)] = 1./m * np.dot(dZ_temp,cache['A' + str(i-1)].T)\n",
    "        gradients['db' + str(i)] = 1./m * np.sum(dZ_temp, axis = 1, keepdims = True)\n",
    "\n",
    "    return gradients"
   ]
  },
  {
   "cell_type": "code",
   "execution_count": 94,
   "metadata": {
    "collapsed": true
   },
   "outputs": [],
   "source": [
    "def updata_parameters(parameters,gradients,alpha):\n",
    "    L = int(len(parameters)/2)\n",
    "    for i in range(1,L+1):\n",
    "        parameters['W' + str(i)] -= alpha * gradients['dW' + str(i)]\n",
    "        parameters['b' + str(i)] -= alpha * gradients['db' + str(i)]\n",
    "    return parameters"
   ]
  },
  {
   "cell_type": "code",
   "execution_count": 95,
   "metadata": {
    "collapsed": false
   },
   "outputs": [],
   "source": [
    "def loss_func(AL,Y):\n",
    "    m = Y.shape[1]\n",
    "    J = -1.0/m * np.sum(Y * np.log(AL))\n",
    "    return J"
   ]
  },
  {
   "cell_type": "code",
   "execution_count": 96,
   "metadata": {
    "collapsed": true
   },
   "outputs": [],
   "source": [
    "def train_model(X,Y,num_class,layers,keep_probs,iterations,activation_name,alpha,batch_size):\n",
    "    parameters = initialize_parameters(layers)\n",
    "    sample_size = Y.shape[1]\n",
    "    for i in range(iterations):\n",
    "        index = np.arange(sample_size)  \n",
    "        random.shuffle(index)\n",
    "        for j in range(sample_size//batch_size):\n",
    "            start = j*batch_size\n",
    "            end = min((j+1)*batch_size,sample_size)\n",
    "            X_batch = X[:,index[start:end]]\n",
    "            Y_batch = Y[:,index[start:end]]\n",
    "            cache,cost = forward_propagation(X_batch,Y_batch,parameters,keep_probs,activation_name)\n",
    "            gradients = backward_propagation(X_batch,Y_batch,cache,parameters,keep_probs,activation_name)\n",
    "            parameters = updata_parameters(parameters,gradients,alpha)\n",
    "        \n",
    "        if i % 10 == 0 or i == iterations -1:\n",
    "            #train_y_hat,train_accuracy = prediction(X_train,y_train,parameters,activation_name)\n",
    "            print('Cost value after %-5d iterations: %f'%(i,cost))\n",
    "            #print('training accuracy after %-5d iterations: %f'%(i,train_accuracy))\n",
    "            \n",
    "    return parameters"
   ]
  },
  {
   "cell_type": "code",
   "execution_count": 97,
   "metadata": {
    "collapsed": true
   },
   "outputs": [],
   "source": [
    "def prediction(X,y,parameters,activation_name):\n",
    "    A = X\n",
    "    L = int(len(parameters)/2)\n",
    "    for i in range(1,L):\n",
    "        Z = np.dot(parameters['W' + str(i)],A) + parameters['b' + str(i)]\n",
    "        A = activation_forward(Z,activation_name)\n",
    "    \n",
    "    Z = np.dot(parameters['W' + str(L)],A) + parameters['b' + str(L)]\n",
    "    A = activation_forward(Z,'softmax')\n",
    "    y_hat = A.argmax(axis=0)\n",
    "    accuracy = sum(y_hat == y)/len(y)\n",
    "    return y_hat,accuracy"
   ]
  },
  {
   "cell_type": "code",
   "execution_count": 100,
   "metadata": {
    "collapsed": false
   },
   "outputs": [
    {
     "name": "stdout",
     "output_type": "stream",
     "text": [
      "Cost value after 0     iterations: 0.739541\n",
      "Cost value after 10    iterations: 0.425487\n",
      "Cost value after 20    iterations: 0.403918\n",
      "Cost value after 30    iterations: 0.309715\n",
      "Cost value after 40    iterations: 0.419985\n",
      "Cost value after 49    iterations: 0.227901\n",
      "Traing time:41.905421 second\n",
      "Traing accuracy:0.978433\n",
      "Test accuracy:0.962400\n"
     ]
    }
   ],
   "source": [
    "import random\n",
    "import time\n",
    "X_train = x_train.T\n",
    "X_test = x_test.T\n",
    "num_class = len(set(y_train))\n",
    "Y_train = np.zeros((num_class,len(y_train)))\n",
    "for i in range(len(y_train)):\n",
    "    Y_train[y_train[i]][i] = 1\n",
    "    \n",
    "layers = [X_train.shape[0],50,num_class]\n",
    "keep_probs = {'L1':0.5}\n",
    "iterations = 50\n",
    "activation_name = 'relu'\n",
    "alpha = 0.1\n",
    "batch_size = 32\n",
    "\n",
    "start_time = time.time()\n",
    "parameters = train_model(X_train,Y_train,num_class,layers,keep_probs,iterations,activation_name,alpha,batch_size)\n",
    "end_time = time.time()\n",
    "\n",
    "train_y_hat,train_accuracy = prediction(X_train,y_train,parameters,activation_name)\n",
    "test_y_hat,test_accuracy = prediction(X_test,y_test,parameters,activation_name)\n",
    "print(\"Traing time:%f second\"%(end_time - start_time))\n",
    "print(\"Traing accuracy:%f\"%(train_accuracy))\n",
    "print(\"Test accuracy:%f\"%(test_accuracy))"
   ]
  },
  {
   "cell_type": "code",
   "execution_count": null,
   "metadata": {
    "collapsed": true
   },
   "outputs": [],
   "source": []
  },
  {
   "cell_type": "code",
   "execution_count": null,
   "metadata": {
    "collapsed": true
   },
   "outputs": [],
   "source": []
  },
  {
   "cell_type": "code",
   "execution_count": null,
   "metadata": {
    "collapsed": true
   },
   "outputs": [],
   "source": []
  },
  {
   "cell_type": "code",
   "execution_count": null,
   "metadata": {
    "collapsed": true
   },
   "outputs": [],
   "source": []
  },
  {
   "cell_type": "code",
   "execution_count": 40,
   "metadata": {
    "collapsed": false
   },
   "outputs": [
    {
     "name": "stdout",
     "output_type": "stream",
     "text": [
      "Cost value after 0     iterations: 1.632896\n",
      "Cost value after 10    iterations: 0.280791\n",
      "Cost value after 20    iterations: 0.352292\n",
      "Cost value after 30    iterations: 0.275275\n",
      "Cost value after 40    iterations: 0.196536\n",
      "Cost value after 50    iterations: 0.272568\n",
      "Cost value after 60    iterations: 0.321050\n",
      "Cost value after 70    iterations: 0.367852\n",
      "Cost value after 80    iterations: 0.192594\n",
      "Cost value after 90    iterations: 0.344489\n",
      "Cost value after 99    iterations: 0.098283\n",
      "Learning rate : 0.001000\n",
      "hidden units: 500\n",
      "Accuracy for training data set: 0.943600\n",
      "Accuracy for test data set: 0.943200\n",
      "\n",
      "Cost value after 0     iterations: 0.541569\n",
      "Cost value after 10    iterations: 0.362156\n",
      "Cost value after 20    iterations: 0.109321\n",
      "Cost value after 30    iterations: 0.039416\n",
      "Cost value after 40    iterations: 0.115886\n",
      "Cost value after 50    iterations: 0.100839\n",
      "Cost value after 60    iterations: 0.046916\n",
      "Cost value after 70    iterations: 0.041169\n",
      "Cost value after 80    iterations: 0.084493\n",
      "Cost value after 90    iterations: 0.061028\n",
      "Cost value after 99    iterations: 0.111944\n",
      "Learning rate : 0.005000\n",
      "hidden units: 500\n",
      "Accuracy for training data set: 0.983900\n",
      "Accuracy for test data set: 0.975400\n",
      "\n",
      "Cost value after 0     iterations: 0.488277\n",
      "Cost value after 10    iterations: 0.335007\n",
      "Cost value after 20    iterations: 0.104912\n",
      "Cost value after 30    iterations: 0.118503\n",
      "Cost value after 40    iterations: 0.059552\n",
      "Cost value after 50    iterations: 0.020699\n",
      "Cost value after 60    iterations: 0.009886\n",
      "Cost value after 70    iterations: 0.074562\n",
      "Cost value after 80    iterations: 0.020857\n",
      "Cost value after 90    iterations: 0.003599\n",
      "Cost value after 99    iterations: 0.091566\n",
      "Learning rate : 0.010000\n",
      "hidden units: 500\n",
      "Accuracy for training data set: 0.994183\n",
      "Accuracy for test data set: 0.979700\n",
      "\n",
      "Cost value after 0     iterations: 0.198288\n",
      "Cost value after 10    iterations: 0.099474\n",
      "Cost value after 20    iterations: 0.050774\n",
      "Cost value after 30    iterations: 0.038987\n",
      "Cost value after 40    iterations: 0.012052\n",
      "Cost value after 50    iterations: 0.005715\n",
      "Cost value after 60    iterations: 0.004740\n",
      "Cost value after 70    iterations: 0.001800\n",
      "Cost value after 80    iterations: 0.001324\n",
      "Cost value after 90    iterations: 0.000542\n",
      "Cost value after 99    iterations: 0.003147\n",
      "Learning rate : 0.050000\n",
      "hidden units: 500\n",
      "Accuracy for training data set: 1.000000\n",
      "Accuracy for test data set: 0.982200\n",
      "\n",
      "Cost value after 0     iterations: 0.082704\n",
      "Cost value after 10    iterations: 0.059777\n",
      "Cost value after 20    iterations: 0.025778\n",
      "Cost value after 30    iterations: 0.004402\n",
      "Cost value after 40    iterations: 0.002301\n",
      "Cost value after 50    iterations: 0.003066\n",
      "Cost value after 60    iterations: 0.001609\n",
      "Cost value after 70    iterations: 0.000523\n",
      "Cost value after 80    iterations: 0.001202\n",
      "Cost value after 90    iterations: 0.001364\n",
      "Cost value after 99    iterations: 0.002020\n",
      "Learning rate : 0.100000\n",
      "hidden units: 500\n",
      "Accuracy for training data set: 1.000000\n",
      "Accuracy for test data set: 0.982300\n",
      "\n"
     ]
    }
   ],
   "source": [
    "import random\n",
    "X_train = x_train.T\n",
    "X_test = x_test.T\n",
    "num_class = len(set(y_train))\n",
    "Y_train = np.zeros((num_class,len(y_train)))\n",
    "for i in range(len(y_train)):\n",
    "    Y_train[y_train[i]][i] = 1\n",
    "#hidden_units = 20\n",
    "#alpha = 0.01\n",
    "iterations = 100\n",
    "activation_name = 'relu'\n",
    "batch_size = 50\n",
    "\n",
    "\n",
    "train_accuracy = {}\n",
    "test_accuracy = {}\n",
    "for alpha in [0.001,0.005,0.01,0.05,0.1]:\n",
    "    train_accuracy[alpha] = {}\n",
    "    test_accuracy[alpha] = {}\n",
    "    for hidden_units in [500]:\n",
    "        parameters = train_model(X_train,Y_train,num_class,hidden_units,iterations,activation_name,alpha,batch_size)\n",
    "        train_y_hat,train_accuracy[alpha][hidden_units] = prediction(X_train,y_train,parameters,activation_name)\n",
    "        test_y_hat,test_accuracy[alpha][hidden_units] = prediction(X_test,y_test,parameters,activation_name)\n",
    "        print(\"Learning rate : %f\\nhidden units: %d\"%(alpha,hidden_units))\n",
    "        print(\"Accuracy for training data set: %f\"%(train_accuracy[alpha][hidden_units]))\n",
    "        print(\"Accuracy for test data set: %f\\n\"%(test_accuracy[alpha][hidden_units]))"
   ]
  },
  {
   "cell_type": "code",
   "execution_count": 44,
   "metadata": {
    "collapsed": false
   },
   "outputs": [],
   "source": [
    "performance = {}\n",
    "performance['train']={}\n",
    "performance['test']={}\n",
    "performance['train']['0.001']=[0.861000,0.917550,0.933117,0.935400,0.939783,0.943600]\n",
    "performance['test']['0.001']=[0.864300,0.918000,0.932500,0.935300,0.939400,0.943200]\n",
    "y1 = performance['test']['0.001']\n",
    "\n",
    "performance['train']['0.005']=[0.893967,0.940667,0.963433,0.974683,0.979717,0.983900]\n",
    "performance['test']['0.005']=[0.889900,0.934300,0.957200,0.965900,0.971100,0.975400]\n",
    "y2 = performance['test']['0.005']\n",
    "\n",
    "performance['train']['0.01']=[0.895833,0.946467,0.967917,0.986917,0.990050,0.994183]\n",
    "performance['test']['0.01']=[0.891000,0.939100,0.957700,0.973000,0.976500,0.979700]\n",
    "y3 = performance['test']['0.01']\n",
    "\n",
    "performance['train']['0.05']=[0.909850,0.957483,0.979667,0.999783,0.999983,1.000000]\n",
    "performance['test']['0.05']=[0.900700,0.940700,0.956500,0.973200,0.980400,0.982200]\n",
    "y4 = performance['test']['0.05']\n",
    "\n",
    "performance['train']['0.1']=[0.908333,0.958150,0.980817,1.000000,1.000000,1.000000]\n",
    "performance['test']['0.1']=[0.897600,0.939800,0.950700,0.973100,0.980500,0.982300]\n",
    "y5 = performance['test']['0.1']"
   ]
  },
  {
   "cell_type": "code",
   "execution_count": 49,
   "metadata": {
    "collapsed": false
   },
   "outputs": [
    {
     "name": "stderr",
     "output_type": "stream",
     "text": [
      "/Users/bangguo/anaconda/envs/py3/lib/python3.6/site-packages/matplotlib/legend.py:634: UserWarning: Legend does not support [<matplotlib.lines.Line2D object at 0x1239f29e8>] instances.\n",
      "A proxy artist may be used instead.\n",
      "See: http://matplotlib.org/users/legend_guide.html#using-proxy-artist\n",
      "  \"#using-proxy-artist\".format(orig_handle)\n",
      "/Users/bangguo/anaconda/envs/py3/lib/python3.6/site-packages/matplotlib/legend.py:634: UserWarning: Legend does not support [<matplotlib.lines.Line2D object at 0x1239025f8>] instances.\n",
      "A proxy artist may be used instead.\n",
      "See: http://matplotlib.org/users/legend_guide.html#using-proxy-artist\n",
      "  \"#using-proxy-artist\".format(orig_handle)\n",
      "/Users/bangguo/anaconda/envs/py3/lib/python3.6/site-packages/matplotlib/legend.py:634: UserWarning: Legend does not support [<matplotlib.lines.Line2D object at 0x1239f2ba8>] instances.\n",
      "A proxy artist may be used instead.\n",
      "See: http://matplotlib.org/users/legend_guide.html#using-proxy-artist\n",
      "  \"#using-proxy-artist\".format(orig_handle)\n",
      "/Users/bangguo/anaconda/envs/py3/lib/python3.6/site-packages/matplotlib/legend.py:634: UserWarning: Legend does not support [<matplotlib.lines.Line2D object at 0x1239fbba8>] instances.\n",
      "A proxy artist may be used instead.\n",
      "See: http://matplotlib.org/users/legend_guide.html#using-proxy-artist\n",
      "  \"#using-proxy-artist\".format(orig_handle)\n",
      "/Users/bangguo/anaconda/envs/py3/lib/python3.6/site-packages/matplotlib/legend.py:634: UserWarning: Legend does not support [<matplotlib.lines.Line2D object at 0x1239fbd68>] instances.\n",
      "A proxy artist may be used instead.\n",
      "See: http://matplotlib.org/users/legend_guide.html#using-proxy-artist\n",
      "  \"#using-proxy-artist\".format(orig_handle)\n"
     ]
    },
    {
     "data": {
      "image/png": "[encoded data removed]",
      "text/plain": [
       "<matplotlib.figure.Figure at 0x1239025c0>"
      ]
     },
     "metadata": {},
     "output_type": "display_data"
    }
   ],
   "source": [
    "import pylab as pl\n",
    "x1 = [5, 10, 20, 50, 100, 500]\n",
    "plot1 = pl.plot(x1, y1, 'r')# use pylab to plot x and y : Give your plots names\n",
    "plot2 = pl.plot(x1, y2, 'g')\n",
    "plot3 = pl.plot(x1, y3, 'b')\n",
    "plot4 = pl.plot(x1, y4, 'p')\n",
    "plot5 = pl.plot(x1, y5, 'y')\n",
    " \n",
    "pl.title('Performance of Simple Neural Network')# give plot a title\n",
    "pl.xlabel('Number of units in the hidden layer')# make axis labels\n",
    "pl.ylabel('Accuracy on the test data set')\n",
    " \n",
    " \n",
    "#pl.xlim(0.0, 9.0)# set axis limits\n",
    "#pl.ylim(0.0, 30.)\n",
    " \n",
    "\n",
    "pl.legend([plot1, plot2, plot3, plot4, plot5], ('red line', 'green line','blue line','pink line','yellow line'))# make legend\n",
    "pl.show()# show the plot on the screen"
   ]
  },
  {
   "cell_type": "code",
   "execution_count": null,
   "metadata": {
    "collapsed": true
   },
   "outputs": [],
   "source": []
  },
  {
   "cell_type": "code",
   "execution_count": null,
   "metadata": {
    "collapsed": true
   },
   "outputs": [],
   "source": []
  },
  {
   "cell_type": "code",
   "execution_count": null,
   "metadata": {
    "collapsed": true
   },
   "outputs": [],
   "source": []
  }
 ],
 "metadata": {
  "kernelspec": {
   "display_name": "py3kernel",
   "language": "python",
   "name": "py3kernel"
  },
  "language_info": {
   "codemirror_mode": {
    "name": "ipython",
    "version": 3
   },
   "file_extension": ".py",
   "mimetype": "text/x-python",
   "name": "python",
   "nbconvert_exporter": "python",
   "pygments_lexer": "ipython3",
   "version": "3.6.0"
  }
 },
 "nbformat": 4,
 "nbformat_minor": 2
}
