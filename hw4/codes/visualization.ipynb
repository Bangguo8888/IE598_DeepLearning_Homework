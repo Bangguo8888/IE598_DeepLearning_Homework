{
 "cells": [
  {
   "cell_type": "code",
   "execution_count": 1,
   "metadata": {
    "collapsed": true
   },
   "outputs": [],
   "source": [
    "import matplotlib.pyplot as plt\n",
    "import imageio,os\n",
    "images = []\n",
    "filenames=sorted((fn for fn in os.listdir('.') if fn.endswith('.png')))"
   ]
  },
  {
   "cell_type": "code",
   "execution_count": 2,
   "metadata": {
    "collapsed": false
   },
   "outputs": [],
   "source": [
    "filenames_samples = []\n",
    "interval = 20\n",
    "for filename in filenames:\n",
    "    filename = int(filename.split('.')[0])\n",
    "    if filename % interval == 0:\n",
    "        new_name  = '00'+str(filename)+'.png'\n",
    "        filenames_samples.append(new_name[-7:])\n",
    "filenames_samples.append('499.png')\n",
    "filenames_samples = sorted(filenames_samples)"
   ]
  },
  {
   "cell_type": "code",
   "execution_count": 3,
   "metadata": {
    "collapsed": false
   },
   "outputs": [
    {
     "data": {
      "text/plain": [
       "['000.png',\n",
       " '020.png',\n",
       " '040.png',\n",
       " '060.png',\n",
       " '080.png',\n",
       " '100.png',\n",
       " '120.png',\n",
       " '140.png',\n",
       " '160.png',\n",
       " '180.png',\n",
       " '200.png',\n",
       " '220.png',\n",
       " '240.png',\n",
       " '260.png',\n",
       " '280.png',\n",
       " '300.png',\n",
       " '320.png',\n",
       " '340.png',\n",
       " '360.png',\n",
       " '380.png',\n",
       " '400.png',\n",
       " '420.png',\n",
       " '440.png',\n",
       " '460.png',\n",
       " '480.png',\n",
       " '499.png',\n",
       " '500.png']"
      ]
     },
     "execution_count": 3,
     "metadata": {},
     "output_type": "execute_result"
    }
   ],
   "source": [
    "filenames_samples"
   ]
  },
  {
   "cell_type": "code",
   "execution_count": 4,
   "metadata": {
    "collapsed": false
   },
   "outputs": [],
   "source": [
    "for filename in filenames_samples:\n",
    "    images.append(imageio.imread(filename))\n",
    "imageio.mimsave('20_interval_images.gif',images,duration = 0.5)"
   ]
  },
  {
   "cell_type": "code",
   "execution_count": null,
   "metadata": {
    "collapsed": true
   },
   "outputs": [],
   "source": []
  }
 ],
 "metadata": {
  "kernelspec": {
   "display_name": "py3kernel",
   "language": "python",
   "name": "py3kernel"
  },
  "language_info": {
   "codemirror_mode": {
    "name": "ipython",
    "version": 3
   },
   "file_extension": ".py",
   "mimetype": "text/x-python",
   "name": "python",
   "nbconvert_exporter": "python",
   "pygments_lexer": "ipython3",
   "version": "3.6.0"
  }
 },
 "nbformat": 4,
 "nbformat_minor": 2
}
